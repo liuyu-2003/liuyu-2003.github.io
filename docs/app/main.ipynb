{
 "cells": [
  {
   "cell_type": "code",
   "execution_count": null,
   "metadata": {},
   "outputs": [],
   "source": [
    "import random\n",
    "\n",
    "def read_file(file_path):\n",
    "    with open(file_path, 'r', encoding='utf-8') as file:\n",
    "        lines = file.readlines()\n",
    "\n",
    "    # 将每五行组合成一个完整的问题\n",
    "    questions = []\n",
    "    for i in range(0, len(lines), 5):\n",
    "        question = ''.join(lines[i:i + 5]).strip()\n",
    "        if question:\n",
    "            questions.append(question)\n",
    "    return questions\n",
    "\n",
    "\n",
    "def display_questions(questions):\n",
    "    random.shuffle(questions)\n",
    "    for question in questions:\n",
    "        input(\"-------------------------------------------------------\")\n",
    "        print(question)\n",
    "    print(\"所有问题已遍历完毕。\")\n",
    "\n",
    "\n",
    "if __name__ == \"__main__\":\n",
    "    file_path = 'xixixi.txt'  # 你的文件名\n",
    "    questions = read_file(file_path)\n",
    "    display_questions(questions)"
   ]
  }
 ],
 "metadata": {
  "language_info": {
   "name": "python"
  }
 },
 "nbformat": 4,
 "nbformat_minor": 2
}
